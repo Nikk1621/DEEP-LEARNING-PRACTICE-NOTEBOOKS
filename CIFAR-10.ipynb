{
 "cells": [
  {
   "cell_type": "code",
   "execution_count": 1,
   "id": "b935d61e",
   "metadata": {},
   "outputs": [],
   "source": [
    "import tensorflow as tf\n",
    "import pandas as pd\n",
    "import numpy as np\n",
    "import matplotlib.pyplot as plt\n",
    "import seaborn as sns\n",
    "import os"
   ]
  },
  {
   "cell_type": "code",
   "execution_count": 2,
   "id": "95f28ca9",
   "metadata": {},
   "outputs": [],
   "source": [
    "d = tf.keras.datasets.cifar10"
   ]
  },
  {
   "cell_type": "code",
   "execution_count": 3,
   "id": "7ec2ba3d",
   "metadata": {},
   "outputs": [],
   "source": [
    "(x_train_full, y_train_full), (x_test, y_test) = d.load_data()"
   ]
  },
  {
   "cell_type": "code",
   "execution_count": 4,
   "id": "a78dafa7",
   "metadata": {},
   "outputs": [
    {
     "name": "stdout",
     "output_type": "stream",
     "text": [
      "(50000, 32, 32, 3)\n",
      "(10000, 1)\n"
     ]
    }
   ],
   "source": [
    "print(x_train_full.shape)\n",
    "print( y_test.shape)"
   ]
  },
  {
   "cell_type": "code",
   "execution_count": 5,
   "id": "56e4677c",
   "metadata": {},
   "outputs": [
    {
     "data": {
      "image/png": "[encoded data removed]",
      "text/plain": [
       "<Figure size 432x288 with 1 Axes>"
      ]
     },
     "metadata": {
      "needs_background": "light"
     },
     "output_type": "display_data"
    }
   ],
   "source": [
    "plt.imshow(x_train_full[0],cmap = 'binary')\n",
    "plt.show()\n"
   ]
  },
  {
   "cell_type": "code",
   "execution_count": 6,
   "id": "74efbb98",
   "metadata": {},
   "outputs": [
    {
     "data": {
      "text/plain": [
       "array([6], dtype=uint8)"
      ]
     },
     "execution_count": 6,
     "metadata": {},
     "output_type": "execute_result"
    }
   ],
   "source": [
    "y_train_full[0]"
   ]
  },
  {
   "cell_type": "code",
   "execution_count": 7,
   "id": "cfea7478",
   "metadata": {},
   "outputs": [],
   "source": [
    "(x_valid,x_train) = x_train_full[:5000]/255,x_train_full[5000:]/255 \n",
    "(y_valid,y_train) = y_train_full[:5000],y_train_full[5000:]"
   ]
  },
  {
   "cell_type": "code",
   "execution_count": 8,
   "id": "14181550",
   "metadata": {},
   "outputs": [],
   "source": [
    "LAYERS = [tf.keras.layers.Flatten(input_shape = [32,32,3]),\n",
    "          tf.keras.layers.Dense(300,activation = 'relu'),\n",
    "          tf.keras.layers.Dropout(.2),\n",
    "         tf.keras.layers.Dense(200,activation = 'relu'),\n",
    "          tf.keras.layers.Dropout(.2),\n",
    "         tf.keras.layers.Dense(100,activation = 'relu'),\n",
    "          tf.keras.layers.Dropout(.2),\n",
    "         tf.keras.layers.Dense(50,activation = 'relu'),\n",
    "          tf.keras.layers.Dropout(.2),\n",
    "         tf.keras.layers.Dense(10,activation = 'softmax')]\n",
    "model_clf = tf.keras.models.Sequential(LAYERS)"
   ]
  },
  {
   "cell_type": "code",
   "execution_count": 9,
   "id": "aa40d4d0",
   "metadata": {},
   "outputs": [
    {
     "name": "stdout",
     "output_type": "stream",
     "text": [
      "[<tensorflow.python.keras.layers.core.Flatten object at 0x000002E02EE06F70>, <tensorflow.python.keras.layers.core.Dense object at 0x000002E02EE35820>, <tensorflow.python.keras.layers.core.Dropout object at 0x000002E02EE35B50>, <tensorflow.python.keras.layers.core.Dense object at 0x000002E02EE35D30>, <tensorflow.python.keras.layers.core.Dropout object at 0x000002E02EE35370>, <tensorflow.python.keras.layers.core.Dense object at 0x000002E02EE78220>, <tensorflow.python.keras.layers.core.Dropout object at 0x000002E02EE78580>, <tensorflow.python.keras.layers.core.Dense object at 0x000002E02EE78730>, <tensorflow.python.keras.layers.core.Dropout object at 0x000002E02EE78A90>, <tensorflow.python.keras.layers.core.Dense object at 0x000002E02EE78C40>]\n",
      "Model: \"sequential\"\n",
      "_________________________________________________________________\n",
      "Layer (type)                 Output Shape              Param #   \n",
      "=================================================================\n",
      "flatten (Flatten)            (None, 3072)              0         \n",
      "_________________________________________________________________\n",
      "dense (Dense)                (None, 300)               921900    \n",
      "_________________________________________________________________\n",
      "dropout (Dropout)            (None, 300)               0         \n",
      "_________________________________________________________________\n",
      "dense_1 (Dense)              (None, 200)               60200     \n",
      "_________________________________________________________________\n",
      "dropout_1 (Dropout)          (None, 200)               0         \n",
      "_________________________________________________________________\n",
      "dense_2 (Dense)              (None, 100)               20100     \n",
      "_________________________________________________________________\n",
      "dropout_2 (Dropout)          (None, 100)               0         \n",
      "_________________________________________________________________\n",
      "dense_3 (Dense)              (None, 50)                5050      \n",
      "_________________________________________________________________\n",
      "dropout_3 (Dropout)          (None, 50)                0         \n",
      "_________________________________________________________________\n",
      "dense_4 (Dense)              (None, 10)                510       \n",
      "=================================================================\n",
      "Total params: 1,007,760\n",
      "Trainable params: 1,007,760\n",
      "Non-trainable params: 0\n",
      "_________________________________________________________________\n"
     ]
    }
   ],
   "source": [
    "print(model_clf.layers)\n",
    "model_clf.summary()"
   ]
  },
  {
   "cell_type": "code",
   "execution_count": 10,
   "id": "b288310e",
   "metadata": {},
   "outputs": [],
   "source": [
    "model_clf.compile(optimizer='SGD',\n",
    "    loss= tf.losses.sparse_categorical_crossentropy,\n",
    "    metrics= ['accuracy'],)"
   ]
  },
  {
   "cell_type": "code",
   "execution_count": 11,
   "id": "31afc248",
   "metadata": {
    "scrolled": true
   },
   "outputs": [
    {
     "name": "stdout",
     "output_type": "stream",
     "text": [
      "Epoch 1/50\n",
      "1407/1407 [==============================] - 5s 4ms/step - loss: 2.1003 - accuracy: 0.2179 - val_loss: 1.9407 - val_accuracy: 0.2888\n",
      "Epoch 2/50\n",
      "1407/1407 [==============================] - 5s 4ms/step - loss: 1.9353 - accuracy: 0.2892 - val_loss: 1.8237 - val_accuracy: 0.3388\n",
      "Epoch 3/50\n",
      "1407/1407 [==============================] - 5s 3ms/step - loss: 1.8643 - accuracy: 0.3243 - val_loss: 2.1881 - val_accuracy: 0.2300\n",
      "Epoch 4/50\n",
      "1407/1407 [==============================] - 5s 3ms/step - loss: 1.8111 - accuracy: 0.3446 - val_loss: 1.7067 - val_accuracy: 0.3818\n",
      "Epoch 5/50\n",
      "1407/1407 [==============================] - 5s 3ms/step - loss: 1.7715 - accuracy: 0.3645 - val_loss: 1.6686 - val_accuracy: 0.4058\n",
      "Epoch 6/50\n",
      "1407/1407 [==============================] - 5s 3ms/step - loss: 1.7303 - accuracy: 0.3801 - val_loss: 1.6694 - val_accuracy: 0.4040\n",
      "Epoch 7/50\n",
      "1407/1407 [==============================] - 5s 3ms/step - loss: 1.6999 - accuracy: 0.3922 - val_loss: 1.6721 - val_accuracy: 0.3994\n",
      "Epoch 8/50\n",
      "1407/1407 [==============================] - 5s 4ms/step - loss: 1.6753 - accuracy: 0.3989 - val_loss: 1.6440 - val_accuracy: 0.4084\n",
      "Epoch 9/50\n",
      "1407/1407 [==============================] - 5s 4ms/step - loss: 1.6531 - accuracy: 0.4089 - val_loss: 1.6211 - val_accuracy: 0.4138\n",
      "Epoch 10/50\n",
      "1407/1407 [==============================] - 5s 4ms/step - loss: 1.6356 - accuracy: 0.4175 - val_loss: 1.7605 - val_accuracy: 0.3664\n",
      "Epoch 11/50\n",
      "1407/1407 [==============================] - 5s 4ms/step - loss: 1.6140 - accuracy: 0.4258 - val_loss: 1.5300 - val_accuracy: 0.4494\n",
      "Epoch 12/50\n",
      "1407/1407 [==============================] - 5s 4ms/step - loss: 1.6033 - accuracy: 0.4267 - val_loss: 1.5892 - val_accuracy: 0.4236\n",
      "Epoch 13/50\n",
      "1407/1407 [==============================] - 5s 4ms/step - loss: 1.5818 - accuracy: 0.4355 - val_loss: 1.5199 - val_accuracy: 0.4556\n",
      "Epoch 14/50\n",
      "1407/1407 [==============================] - 5s 4ms/step - loss: 1.5644 - accuracy: 0.4378 - val_loss: 1.6134 - val_accuracy: 0.4286\n",
      "Epoch 15/50\n",
      "1407/1407 [==============================] - 5s 4ms/step - loss: 1.5540 - accuracy: 0.4454 - val_loss: 1.5095 - val_accuracy: 0.4550\n",
      "Epoch 16/50\n",
      "1407/1407 [==============================] - 5s 4ms/step - loss: 1.5352 - accuracy: 0.4488 - val_loss: 1.5547 - val_accuracy: 0.4440\n",
      "Epoch 17/50\n",
      "1407/1407 [==============================] - 5s 4ms/step - loss: 1.5265 - accuracy: 0.4555 - val_loss: 1.4836 - val_accuracy: 0.4654\n",
      "Epoch 18/50\n",
      "1407/1407 [==============================] - 5s 4ms/step - loss: 1.5176 - accuracy: 0.4602 - val_loss: 1.5561 - val_accuracy: 0.4430\n",
      "Epoch 19/50\n",
      "1407/1407 [==============================] - 5s 4ms/step - loss: 1.5036 - accuracy: 0.4656 - val_loss: 1.5451 - val_accuracy: 0.4436\n",
      "Epoch 20/50\n",
      "1407/1407 [==============================] - 5s 4ms/step - loss: 1.4906 - accuracy: 0.4700 - val_loss: 1.4583 - val_accuracy: 0.4784\n",
      "Epoch 21/50\n",
      "1407/1407 [==============================] - 5s 4ms/step - loss: 1.4863 - accuracy: 0.4706 - val_loss: 1.5006 - val_accuracy: 0.4586\n",
      "Epoch 22/50\n",
      "1407/1407 [==============================] - 5s 4ms/step - loss: 1.4709 - accuracy: 0.4748 - val_loss: 1.4786 - val_accuracy: 0.4680\n",
      "Epoch 23/50\n",
      "1407/1407 [==============================] - 5s 4ms/step - loss: 1.4647 - accuracy: 0.4795 - val_loss: 1.4562 - val_accuracy: 0.4726\n",
      "Epoch 24/50\n",
      "1407/1407 [==============================] - 5s 4ms/step - loss: 1.4565 - accuracy: 0.4800 - val_loss: 1.5054 - val_accuracy: 0.4706\n",
      "Epoch 25/50\n",
      "1407/1407 [==============================] - 5s 4ms/step - loss: 1.4430 - accuracy: 0.4859 - val_loss: 1.4612 - val_accuracy: 0.4804\n",
      "Epoch 26/50\n",
      "1407/1407 [==============================] - 5s 4ms/step - loss: 1.4368 - accuracy: 0.4889 - val_loss: 1.4178 - val_accuracy: 0.4840\n",
      "Epoch 27/50\n",
      "1407/1407 [==============================] - 5s 4ms/step - loss: 1.4274 - accuracy: 0.4899 - val_loss: 1.4510 - val_accuracy: 0.4898\n",
      "Epoch 28/50\n",
      "1407/1407 [==============================] - 5s 4ms/step - loss: 1.4219 - accuracy: 0.4944 - val_loss: 1.4824 - val_accuracy: 0.4674\n",
      "Epoch 29/50\n",
      "1407/1407 [==============================] - 5s 4ms/step - loss: 1.4082 - accuracy: 0.4990 - val_loss: 1.4389 - val_accuracy: 0.4772\n",
      "Epoch 30/50\n",
      "1407/1407 [==============================] - 5s 4ms/step - loss: 1.4052 - accuracy: 0.4973 - val_loss: 1.4158 - val_accuracy: 0.4920\n",
      "Epoch 31/50\n",
      "1407/1407 [==============================] - 5s 4ms/step - loss: 1.3935 - accuracy: 0.5052 - val_loss: 1.4408 - val_accuracy: 0.4832\n",
      "Epoch 32/50\n",
      "1407/1407 [==============================] - 5s 4ms/step - loss: 1.3872 - accuracy: 0.5044 - val_loss: 1.4035 - val_accuracy: 0.5042\n",
      "Epoch 33/50\n",
      "1407/1407 [==============================] - 5s 4ms/step - loss: 1.3801 - accuracy: 0.5092 - val_loss: 1.4724 - val_accuracy: 0.4804\n",
      "Epoch 34/50\n",
      "1407/1407 [==============================] - 5s 4ms/step - loss: 1.3759 - accuracy: 0.5092 - val_loss: 1.3917 - val_accuracy: 0.5028\n",
      "Epoch 35/50\n",
      "1407/1407 [==============================] - 5s 4ms/step - loss: 1.3710 - accuracy: 0.5132 - val_loss: 1.4511 - val_accuracy: 0.4786\n",
      "Epoch 36/50\n",
      "1407/1407 [==============================] - 5s 4ms/step - loss: 1.3626 - accuracy: 0.5157 - val_loss: 1.3878 - val_accuracy: 0.5034\n",
      "Epoch 37/50\n",
      "1407/1407 [==============================] - 5s 4ms/step - loss: 1.3561 - accuracy: 0.5158 - val_loss: 1.4279 - val_accuracy: 0.4906\n",
      "Epoch 38/50\n",
      "1407/1407 [==============================] - 5s 4ms/step - loss: 1.3500 - accuracy: 0.5200 - val_loss: 1.3414 - val_accuracy: 0.5222\n",
      "Epoch 39/50\n",
      "1407/1407 [==============================] - 5s 4ms/step - loss: 1.3427 - accuracy: 0.5242 - val_loss: 1.3679 - val_accuracy: 0.5066\n",
      "Epoch 40/50\n",
      "1407/1407 [==============================] - 5s 4ms/step - loss: 1.3349 - accuracy: 0.5272 - val_loss: 1.4590 - val_accuracy: 0.4794\n",
      "Epoch 41/50\n",
      "1407/1407 [==============================] - 5s 4ms/step - loss: 1.3300 - accuracy: 0.5270 - val_loss: 1.3813 - val_accuracy: 0.4970\n",
      "Epoch 42/50\n",
      "1407/1407 [==============================] - 5s 4ms/step - loss: 1.3213 - accuracy: 0.5314 - val_loss: 1.4347 - val_accuracy: 0.4902\n",
      "Epoch 43/50\n",
      "1407/1407 [==============================] - 5s 4ms/step - loss: 1.3135 - accuracy: 0.5316 - val_loss: 1.3502 - val_accuracy: 0.5246\n",
      "Epoch 44/50\n",
      "1407/1407 [==============================] - 5s 4ms/step - loss: 1.3100 - accuracy: 0.5336 - val_loss: 1.4246 - val_accuracy: 0.4910\n",
      "Epoch 45/50\n",
      "1407/1407 [==============================] - 5s 4ms/step - loss: 1.3071 - accuracy: 0.5348 - val_loss: 1.3599 - val_accuracy: 0.5244\n",
      "Epoch 46/50\n",
      "1407/1407 [==============================] - 5s 4ms/step - loss: 1.3029 - accuracy: 0.5372 - val_loss: 1.3412 - val_accuracy: 0.5314\n",
      "Epoch 47/50\n",
      "1407/1407 [==============================] - 5s 4ms/step - loss: 1.2917 - accuracy: 0.5406 - val_loss: 1.4299 - val_accuracy: 0.4962\n",
      "Epoch 48/50\n",
      "1407/1407 [==============================] - 5s 4ms/step - loss: 1.2878 - accuracy: 0.5414 - val_loss: 1.3584 - val_accuracy: 0.5208\n",
      "Epoch 49/50\n",
      "1407/1407 [==============================] - 5s 4ms/step - loss: 1.2827 - accuracy: 0.5434 - val_loss: 1.4101 - val_accuracy: 0.4992\n",
      "Epoch 50/50\n",
      "1407/1407 [==============================] - 5s 4ms/step - loss: 1.2804 - accuracy: 0.5433 - val_loss: 1.3773 - val_accuracy: 0.5236\n"
     ]
    }
   ],
   "source": [
    "valid = (x_valid,y_valid)\n",
    "\n",
    "history_with_dropout = model_clf.fit(x_train , y_train , validation_data = valid , epochs = 50 )"
   ]
  },
  {
   "cell_type": "code",
   "execution_count": 12,
   "id": "e8eec34c",
   "metadata": {},
   "outputs": [
    {
     "name": "stdout",
     "output_type": "stream",
     "text": [
      "313/313 [==============================] - 1s 2ms/step - loss: 138.7779 - accuracy: 0.4126\n"
     ]
    },
    {
     "data": {
      "text/plain": [
       "[138.77789306640625, 0.41260001063346863]"
      ]
     },
     "execution_count": 12,
     "metadata": {},
     "output_type": "execute_result"
    }
   ],
   "source": [
    "model_clf.evaluate(x_test,y_test)"
   ]
  },
  {
   "cell_type": "code",
   "execution_count": 13,
   "id": "2fde281b",
   "metadata": {},
   "outputs": [
    {
     "data": {
      "text/html": [
       "<div>\n",
       "<style scoped>\n",
       "    .dataframe tbody tr th:only-of-type {\n",
       "        vertical-align: middle;\n",
       "    }\n",
       "\n",
       "    .dataframe tbody tr th {\n",
       "        vertical-align: top;\n",
       "    }\n",
       "\n",
       "    .dataframe thead th {\n",
       "        text-align: right;\n",
       "    }\n",
       "</style>\n",
       "<table border=\"1\" class=\"dataframe\">\n",
       "  <thead>\n",
       "    <tr style=\"text-align: right;\">\n",
       "      <th></th>\n",
       "      <th>loss</th>\n",
       "      <th>accuracy</th>\n",
       "      <th>val_loss</th>\n",
       "      <th>val_accuracy</th>\n",
       "    </tr>\n",
       "  </thead>\n",
       "  <tbody>\n",
       "    <tr>\n",
       "      <th>0</th>\n",
       "      <td>2.100335</td>\n",
       "      <td>0.217911</td>\n",
       "      <td>1.940686</td>\n",
       "      <td>0.2888</td>\n",
       "    </tr>\n",
       "    <tr>\n",
       "      <th>1</th>\n",
       "      <td>1.935322</td>\n",
       "      <td>0.289178</td>\n",
       "      <td>1.823722</td>\n",
       "      <td>0.3388</td>\n",
       "    </tr>\n",
       "    <tr>\n",
       "      <th>2</th>\n",
       "      <td>1.864332</td>\n",
       "      <td>0.324333</td>\n",
       "      <td>2.188129</td>\n",
       "      <td>0.2300</td>\n",
       "    </tr>\n",
       "    <tr>\n",
       "      <th>3</th>\n",
       "      <td>1.811056</td>\n",
       "      <td>0.344578</td>\n",
       "      <td>1.706720</td>\n",
       "      <td>0.3818</td>\n",
       "    </tr>\n",
       "    <tr>\n",
       "      <th>4</th>\n",
       "      <td>1.771523</td>\n",
       "      <td>0.364467</td>\n",
       "      <td>1.668605</td>\n",
       "      <td>0.4058</td>\n",
       "    </tr>\n",
       "  </tbody>\n",
       "</table>\n",
       "</div>"
      ],
      "text/plain": [
       "       loss  accuracy  val_loss  val_accuracy\n",
       "0  2.100335  0.217911  1.940686        0.2888\n",
       "1  1.935322  0.289178  1.823722        0.3388\n",
       "2  1.864332  0.324333  2.188129        0.2300\n",
       "3  1.811056  0.344578  1.706720        0.3818\n",
       "4  1.771523  0.364467  1.668605        0.4058"
      ]
     },
     "execution_count": 13,
     "metadata": {},
     "output_type": "execute_result"
    }
   ],
   "source": [
    "pd.DataFrame(history_with_dropout.history).head()"
   ]
  },
  {
   "cell_type": "code",
   "execution_count": 14,
   "id": "72007c28",
   "metadata": {},
   "outputs": [
    {
     "data": {
      "image/png": "[encoded data removed]",
      "text/plain": [
       "<Figure size 720x720 with 1 Axes>"
      ]
     },
     "metadata": {
      "needs_background": "light"
     },
     "output_type": "display_data"
    }
   ],
   "source": [
    "pd.DataFrame(history_with_dropout.history).plot(figsize=(10,10))\n",
    "plt.grid(True)\n",
    "\n",
    "plt.show()"
   ]
  },
  {
   "cell_type": "code",
   "execution_count": 15,
   "id": "04adb92b",
   "metadata": {},
   "outputs": [
    {
     "data": {
      "text/plain": [
       "array([0., 0., 0., 0., 0., 1., 0., 0., 0., 0.], dtype=float32)"
      ]
     },
     "execution_count": 15,
     "metadata": {},
     "output_type": "execute_result"
    }
   ],
   "source": [
    "y_pred =  model_clf.predict(x_test)\n",
    "y_pred[0].round()"
   ]
  },
  {
   "cell_type": "code",
   "execution_count": 16,
   "id": "e1c9b92d",
   "metadata": {},
   "outputs": [
    {
     "data": {
      "text/plain": [
       "array([3], dtype=uint8)"
      ]
     },
     "execution_count": 16,
     "metadata": {},
     "output_type": "execute_result"
    }
   ],
   "source": [
    "y_test[0]"
   ]
  },
  {
   "cell_type": "code",
   "execution_count": null,
   "id": "be0e1c58",
   "metadata": {},
   "outputs": [],
   "source": []
  }
 ],
 "metadata": {
  "kernelspec": {
   "display_name": "Python 3",
   "language": "python",
   "name": "python3"
  },
  "language_info": {
   "codemirror_mode": {
    "name": "ipython",
    "version": 3
   },
   "file_extension": ".py",
   "mimetype": "text/x-python",
   "name": "python",
   "nbconvert_exporter": "python",
   "pygments_lexer": "ipython3",
   "version": "3.8.8"
  }
 },
 "nbformat": 4,
 "nbformat_minor": 5
}
